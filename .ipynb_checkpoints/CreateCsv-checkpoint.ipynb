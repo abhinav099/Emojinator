{
 "cells": [
  {
   "cell_type": "code",
   "execution_count": 5,
   "metadata": {},
   "outputs": [],
   "source": [
    "from scipy import misc\n",
    "import numpy as np\n",
    "import pandas as pd\n",
    "import os"
   ]
  },
  {
   "cell_type": "code",
   "execution_count": 6,
   "metadata": {},
   "outputs": [],
   "source": [
    "root = \"./gestures\"\n",
    "\n",
    "for directory,subdirectories,files in os.walk(root):\n",
    "    for file in files:\n",
    "        print(file)\n",
    "        im = misc.imread(os.path.join(directory,file))\n",
    "        value = im.flatten()\n",
    "        \n",
    "        value = np.hstack((directory[8:],value))\n",
    "        df = pd.DataFrame(value).T\n",
    "        df = df.sample(frac=1)\n",
    "        with open(\"train.csv\",'a') as dataset:\n",
    "            df.to_csv(dataset,header=False,index=False)"
   ]
  },
  {
   "cell_type": "code",
   "execution_count": null,
   "metadata": {},
   "outputs": [],
   "source": []
  }
 ],
 "metadata": {
  "kernelspec": {
   "display_name": "Python 3",
   "language": "python",
   "name": "python3"
  },
  "language_info": {
   "codemirror_mode": {
    "name": "ipython",
    "version": 3
   },
   "file_extension": ".py",
   "mimetype": "text/x-python",
   "name": "python",
   "nbconvert_exporter": "python",
   "pygments_lexer": "ipython3",
   "version": "3.6.6"
  }
 },
 "nbformat": 4,
 "nbformat_minor": 2
}
