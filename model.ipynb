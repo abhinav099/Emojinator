{
 "cells": [
  {
   "cell_type": "code",
   "execution_count": 1,
   "metadata": {},
   "outputs": [
    {
     "name": "stderr",
     "output_type": "stream",
     "text": [
      "Using TensorFlow backend.\n"
     ]
    }
   ],
   "source": [
    "import numpy as np\n",
    "from keras.layers import Dense, Flatten, Conv2D\n",
    "from keras.layers import MaxPooling2D, Dropout\n",
    "from keras.utils import np_utils, print_summary\n",
    "from keras.models import Sequential\n",
    "from keras.callbacks import ModelCheckpoint\n",
    "import pandas as pd\n",
    "import keras.backend as K"
   ]
  },
  {
   "cell_type": "code",
   "execution_count": 12,
   "metadata": {},
   "outputs": [],
   "source": [
    "data = pd.read_csv(\"train.csv\")\n",
    "dataset = np.array(data)\n",
    "np.random.shuffle(dataset)\n",
    "X= dataset\n",
    "Y = dataset\n",
    "X = X[:,1:2501]\n",
    "Y = Y[:,0]"
   ]
  },
  {
   "cell_type": "code",
   "execution_count": 13,
   "metadata": {},
   "outputs": [],
   "source": [
    "X_train = X[0:4800,:]\n",
    "X_train = X_train/255.\n",
    "X_test = X[4801:,:]\n",
    "X_test = X_test/255."
   ]
  },
  {
   "cell_type": "code",
   "execution_count": 14,
   "metadata": {},
   "outputs": [],
   "source": [
    "Y = Y.reshape(Y.shape[0],1)\n",
    "Y_train = Y[0:4800,:]\n",
    "Y_train = Y_train.T\n",
    "Y_test = Y[4801:,:]\n",
    "Y_test = Y_test.T"
   ]
  },
  {
   "cell_type": "code",
   "execution_count": 15,
   "metadata": {},
   "outputs": [
    {
     "name": "stdout",
     "output_type": "stream",
     "text": [
      "(4800, 2500)\n",
      "(1198, 2500)\n",
      "(1, 4800)\n",
      "(1, 1198)\n"
     ]
    }
   ],
   "source": [
    "print(X_train.shape)\n",
    "print(X_test.shape)\n",
    "print(Y_train.shape)\n",
    "print(Y_test.shape)"
   ]
  },
  {
   "cell_type": "code",
   "execution_count": 16,
   "metadata": {},
   "outputs": [
    {
     "name": "stdout",
     "output_type": "stream",
     "text": [
      "(4800, 50, 50, 1)\n",
      "(1198, 50, 50, 1)\n",
      "(1, 4800)\n",
      "(1, 1198)\n"
     ]
    }
   ],
   "source": [
    "image_x = 50\n",
    "image_y = 50\n",
    "\n",
    "train_y = np_utils.to_categorical(Y_train)\n",
    "test_y = np_utils.to_categorical(Y_test)\n",
    "train_y = train_y.reshape(train_y.shape[1], train_y.shape[2])\n",
    "test_y = test_y.reshape(test_y.shape[1], test_y.shape[2])\n",
    "X_train = X_train.reshape(X_train.shape[0],image_x,image_y,1)\n",
    "X_test = X_test.reshape(X_test.shape[0],image_x,image_y,1)\n",
    "\n",
    "print(X_train.shape)\n",
    "print(X_test.shape)\n",
    "print(Y_train.shape)\n",
    "print(Y_test.shape)"
   ]
  },
  {
   "cell_type": "code",
   "execution_count": 18,
   "metadata": {},
   "outputs": [
    {
     "name": "stdout",
     "output_type": "stream",
     "text": [
      "(4800, 6)\n"
     ]
    }
   ],
   "source": [
    "print(train_y.shape)"
   ]
  },
  {
   "cell_type": "code",
   "execution_count": 19,
   "metadata": {},
   "outputs": [],
   "source": [
    "def keras_model(image_x,image_y):\n",
    "    num_of_classes = 6\n",
    "    model = Sequential()\n",
    "    model.add(Conv2D(filters = 32, kernel_size=(5,5), input_shape=(image_x,image_y,1),activation ='relu'))\n",
    "    model.add(MaxPooling2D(pool_size=(2,2), strides=(2,2), padding='same'))\n",
    "    model.add(Conv2D(64,(5,5),activation ='relu'))\n",
    "    model.add(MaxPooling2D(pool_size=(5,5), strides=(5,5), padding='same'))\n",
    "    model.add(Flatten())\n",
    "    model.add(Dense(1024, activation='relu'))\n",
    "    model.add(Dropout(0.6))\n",
    "    model.add(Dense(num_of_classes,activation='softmax'))\n",
    "    \n",
    "    model.compile(loss ='categorical_crossentropy',optimizer='adam',metrics=['accuracy'])\n",
    "    filepath= 'hand_gestures.h5'\n",
    "    checkpoint1 = ModelCheckpoint(filepath,monitor='val_acc',verbose=1, save_best_only=True,mode='max')\n",
    "    callbacks_list = [checkpoint1]\n",
    "    \n",
    "    return model,callbacks_list"
   ]
  },
  {
   "cell_type": "code",
   "execution_count": 23,
   "metadata": {},
   "outputs": [
    {
     "name": "stdout",
     "output_type": "stream",
     "text": [
      "Train on 4800 samples, validate on 1198 samples\n",
      "Epoch 1/5\n",
      "4800/4800 [==============================] - 148s 31ms/step - loss: 0.3666 - acc: 0.8765 - val_loss: 0.0766 - val_acc: 0.9791\n",
      "\n",
      "Epoch 00001: val_acc improved from -inf to 0.97913, saving model to hand_gestures.h5\n",
      "Epoch 2/5\n",
      "4800/4800 [==============================] - 149s 31ms/step - loss: 0.0582 - acc: 0.9856 - val_loss: 0.0372 - val_acc: 0.9900\n",
      "\n",
      "Epoch 00002: val_acc improved from 0.97913 to 0.98998, saving model to hand_gestures.h5\n",
      "Epoch 3/5\n",
      "4800/4800 [==============================] - 150s 31ms/step - loss: 0.0419 - acc: 0.9892 - val_loss: 0.0300 - val_acc: 0.9925\n",
      "\n",
      "Epoch 00003: val_acc improved from 0.98998 to 0.99249, saving model to hand_gestures.h5\n",
      "Epoch 4/5\n",
      "4800/4800 [==============================] - 137s 28ms/step - loss: 0.0304 - acc: 0.9906 - val_loss: 0.0236 - val_acc: 0.9942\n",
      "\n",
      "Epoch 00004: val_acc improved from 0.99249 to 0.99416, saving model to hand_gestures.h5\n",
      "Epoch 5/5\n",
      "4800/4800 [==============================] - 258s 54ms/step - loss: 0.0229 - acc: 0.9946 - val_loss: 0.0313 - val_acc: 0.9925\n",
      "\n",
      "Epoch 00005: val_acc did not improve from 0.99416\n",
      "CNN Error: 0.75%\n",
      "_________________________________________________________________\n",
      "Layer (type)                 Output Shape              Param #   \n",
      "=================================================================\n",
      "conv2d_5 (Conv2D)            (None, 46, 46, 32)        832       \n",
      "_________________________________________________________________\n",
      "max_pooling2d_5 (MaxPooling2 (None, 23, 23, 32)        0         \n",
      "_________________________________________________________________\n",
      "conv2d_6 (Conv2D)            (None, 19, 19, 64)        51264     \n",
      "_________________________________________________________________\n",
      "max_pooling2d_6 (MaxPooling2 (None, 4, 4, 64)          0         \n",
      "_________________________________________________________________\n",
      "flatten_3 (Flatten)          (None, 1024)              0         \n",
      "_________________________________________________________________\n",
      "dense_5 (Dense)              (None, 1024)              1049600   \n",
      "_________________________________________________________________\n",
      "dropout_3 (Dropout)          (None, 1024)              0         \n",
      "_________________________________________________________________\n",
      "dense_6 (Dense)              (None, 6)                 6150      \n",
      "=================================================================\n",
      "Total params: 1,107,846\n",
      "Trainable params: 1,107,846\n",
      "Non-trainable params: 0\n",
      "_________________________________________________________________\n"
     ]
    }
   ],
   "source": [
    "model, callbacks_list= keras_model(image_x,image_y)\n",
    "model.fit(X_train,train_y, validation_data=(X_test,test_y),epochs=5,batch_size = 64,callbacks=callbacks_list)\n",
    "scores = model.evaluate(X_test,test_y,verbose=0)\n",
    "print(\"CNN Error: %.2f%%\" % (100-scores[1]*100))\n",
    "print_summary(model)\n",
    "model.save('hand_gestures.h5')"
   ]
  },
  {
   "cell_type": "code",
   "execution_count": null,
   "metadata": {},
   "outputs": [],
   "source": []
  }
 ],
 "metadata": {
  "kernelspec": {
   "display_name": "Python 3",
   "language": "python",
   "name": "python3"
  },
  "language_info": {
   "codemirror_mode": {
    "name": "ipython",
    "version": 3
   },
   "file_extension": ".py",
   "mimetype": "text/x-python",
   "name": "python",
   "nbconvert_exporter": "python",
   "pygments_lexer": "ipython3",
   "version": "3.6.6"
  }
 },
 "nbformat": 4,
 "nbformat_minor": 2
}
